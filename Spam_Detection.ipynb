{
  "nbformat": 4,
  "nbformat_minor": 0,
  "metadata": {
    "colab": {
      "name": "Spam-Detection",
      "provenance": []
    },
    "kernelspec": {
      "name": "python3",
      "display_name": "Python 3"
    },
    "accelerator": "TPU"
  },
  "cells": [
    {
      "cell_type": "code",
      "metadata": {
        "id": "bqb1HG8QVvDX",
        "colab_type": "code",
        "colab": {}
      },
      "source": [
        "from google.colab import files\n",
        "import pandas as pd"
      ],
      "execution_count": 0,
      "outputs": []
    },
    {
      "cell_type": "code",
      "metadata": {
        "id": "SMVRp4brV0zC",
        "colab_type": "code",
        "colab": {}
      },
      "source": [
        "uploaded = files.upload()"
      ],
      "execution_count": 0,
      "outputs": []
    },
    {
      "cell_type": "code",
      "metadata": {
        "id": "AxAnqpOHV0lS",
        "colab_type": "code",
        "colab": {}
      },
      "source": [
        "!pip install -q kaggle"
      ],
      "execution_count": 0,
      "outputs": []
    },
    {
      "cell_type": "code",
      "metadata": {
        "id": "TN8ZzOhRV0Sd",
        "colab_type": "code",
        "colab": {}
      },
      "source": [
        "!mkdir -p ~/.kaggle\n",
        "!cp kaggle.json ~/.kaggle/"
      ],
      "execution_count": 0,
      "outputs": []
    },
    {
      "cell_type": "code",
      "metadata": {
        "id": "FsUrwG8cWJ33",
        "colab_type": "code",
        "colab": {}
      },
      "source": [
        "!chmod 600 ~/.kaggle/kaggle.json"
      ],
      "execution_count": 0,
      "outputs": []
    },
    {
      "cell_type": "code",
      "metadata": {
        "id": "_XRdUSsGWJvn",
        "colab_type": "code",
        "colab": {
          "base_uri": "https://localhost:8080/",
          "height": 69
        },
        "outputId": "3f0e85a6-89db-4120-8b9f-242f1982a039"
      },
      "source": [
        "!kaggle datasets download yongho1037/smsspamcollection"
      ],
      "execution_count": 20,
      "outputs": [
        {
          "output_type": "stream",
          "text": [
            "Downloading smsspamcollection.zip to /content\n",
            "\r  0% 0.00/206k [00:00<?, ?B/s]\n",
            "\r100% 206k/206k [00:00<00:00, 77.4MB/s]\n"
          ],
          "name": "stdout"
        }
      ]
    },
    {
      "cell_type": "code",
      "metadata": {
        "id": "8HtpthoGWJbT",
        "colab_type": "code",
        "colab": {}
      },
      "source": [
        "mkdir dataset"
      ],
      "execution_count": 0,
      "outputs": []
    },
    {
      "cell_type": "code",
      "metadata": {
        "id": "jNZ0oviCWJO5",
        "colab_type": "code",
        "colab": {
          "base_uri": "https://localhost:8080/",
          "height": 52
        },
        "outputId": "7a7b42a9-2dd9-4d56-df75-b43e0bb2d506"
      },
      "source": [
        "! unzip smsspamcollection.zip -d dataset"
      ],
      "execution_count": 22,
      "outputs": [
        {
          "output_type": "stream",
          "text": [
            "Archive:  smsspamcollection.zip\n",
            "  inflating: dataset/SMSSpamCollection  \n"
          ],
          "name": "stdout"
        }
      ]
    },
    {
      "cell_type": "code",
      "metadata": {
        "id": "Wbu4lQRVWJFN",
        "colab_type": "code",
        "colab": {
          "base_uri": "https://localhost:8080/",
          "height": 34
        },
        "outputId": "10d99463-257c-44b7-8b80-77f887fdec89"
      },
      "source": [
        "ls"
      ],
      "execution_count": 23,
      "outputs": [
        {
          "output_type": "stream",
          "text": [
            "\u001b[0m\u001b[01;34mdataset\u001b[0m/  kaggle.json  \u001b[01;34msample_data\u001b[0m/  smsspamcollection.zip\n"
          ],
          "name": "stdout"
        }
      ]
    },
    {
      "cell_type": "code",
      "metadata": {
        "id": "BjkirTAIWI7Q",
        "colab_type": "code",
        "colab": {}
      },
      "source": [
        "import pandas as pd\n",
        "import numpy as np\n",
        "import matplotlib.pyplot as plt\n",
        "import nltk\n",
        "import sklearn\n",
        "import sys"
      ],
      "execution_count": 0,
      "outputs": []
    },
    {
      "cell_type": "code",
      "metadata": {
        "id": "tB4nAas2YFqW",
        "colab_type": "code",
        "colab": {
          "base_uri": "https://localhost:8080/",
          "height": 383
        },
        "outputId": "90993c2f-29ec-49c2-9d25-6784bd608e14"
      },
      "source": [
        "df=pd.read_table(\"/content/dataset/SMSSpamCollection\",header = None, encoding=\"utf-8\")\n",
        "df.info()\n",
        "df.head()"
      ],
      "execution_count": 25,
      "outputs": [
        {
          "output_type": "stream",
          "text": [
            "<class 'pandas.core.frame.DataFrame'>\n",
            "RangeIndex: 5572 entries, 0 to 5571\n",
            "Data columns (total 2 columns):\n",
            "0    5572 non-null object\n",
            "1    5572 non-null object\n",
            "dtypes: object(2)\n",
            "memory usage: 87.1+ KB\n"
          ],
          "name": "stdout"
        },
        {
          "output_type": "stream",
          "text": [
            "/usr/local/lib/python3.6/dist-packages/ipykernel_launcher.py:1: FutureWarning: read_table is deprecated, use read_csv instead, passing sep='\\t'.\n",
            "  \"\"\"Entry point for launching an IPython kernel.\n"
          ],
          "name": "stderr"
        },
        {
          "output_type": "execute_result",
          "data": {
            "text/html": [
              "<div>\n",
              "<style scoped>\n",
              "    .dataframe tbody tr th:only-of-type {\n",
              "        vertical-align: middle;\n",
              "    }\n",
              "\n",
              "    .dataframe tbody tr th {\n",
              "        vertical-align: top;\n",
              "    }\n",
              "\n",
              "    .dataframe thead th {\n",
              "        text-align: right;\n",
              "    }\n",
              "</style>\n",
              "<table border=\"1\" class=\"dataframe\">\n",
              "  <thead>\n",
              "    <tr style=\"text-align: right;\">\n",
              "      <th></th>\n",
              "      <th>0</th>\n",
              "      <th>1</th>\n",
              "    </tr>\n",
              "  </thead>\n",
              "  <tbody>\n",
              "    <tr>\n",
              "      <th>0</th>\n",
              "      <td>ham</td>\n",
              "      <td>Go until jurong point, crazy.. Available only ...</td>\n",
              "    </tr>\n",
              "    <tr>\n",
              "      <th>1</th>\n",
              "      <td>ham</td>\n",
              "      <td>Ok lar... Joking wif u oni...</td>\n",
              "    </tr>\n",
              "    <tr>\n",
              "      <th>2</th>\n",
              "      <td>spam</td>\n",
              "      <td>Free entry in 2 a wkly comp to win FA Cup fina...</td>\n",
              "    </tr>\n",
              "    <tr>\n",
              "      <th>3</th>\n",
              "      <td>ham</td>\n",
              "      <td>U dun say so early hor... U c already then say...</td>\n",
              "    </tr>\n",
              "    <tr>\n",
              "      <th>4</th>\n",
              "      <td>ham</td>\n",
              "      <td>Nah I don't think he goes to usf, he lives aro...</td>\n",
              "    </tr>\n",
              "  </tbody>\n",
              "</table>\n",
              "</div>"
            ],
            "text/plain": [
              "      0                                                  1\n",
              "0   ham  Go until jurong point, crazy.. Available only ...\n",
              "1   ham                      Ok lar... Joking wif u oni...\n",
              "2  spam  Free entry in 2 a wkly comp to win FA Cup fina...\n",
              "3   ham  U dun say so early hor... U c already then say...\n",
              "4   ham  Nah I don't think he goes to usf, he lives aro..."
            ]
          },
          "metadata": {
            "tags": []
          },
          "execution_count": 25
        }
      ]
    },
    {
      "cell_type": "code",
      "metadata": {
        "id": "hCLhsQs2YFiT",
        "colab_type": "code",
        "colab": {
          "base_uri": "https://localhost:8080/",
          "height": 69
        },
        "outputId": "62d28b05-4597-46f4-b9f2-b31681463123"
      },
      "source": [
        "classes = df[0]\n",
        "classes.value_counts()"
      ],
      "execution_count": 26,
      "outputs": [
        {
          "output_type": "execute_result",
          "data": {
            "text/plain": [
              "ham     4825\n",
              "spam     747\n",
              "Name: 0, dtype: int64"
            ]
          },
          "metadata": {
            "tags": []
          },
          "execution_count": 26
        }
      ]
    },
    {
      "cell_type": "code",
      "metadata": {
        "id": "bze_jQJ-YFY3",
        "colab_type": "code",
        "colab": {
          "base_uri": "https://localhost:8080/",
          "height": 34
        },
        "outputId": "565b6c1a-f0dc-46a0-e1ac-fd0e232b6574"
      },
      "source": [
        "from sklearn.preprocessing import LabelEncoder\n",
        "enco = LabelEncoder()\n",
        "Y = enco.fit_transform(classes)\n",
        "Y[:10]"
      ],
      "execution_count": 27,
      "outputs": [
        {
          "output_type": "execute_result",
          "data": {
            "text/plain": [
              "array([0, 0, 1, 0, 0, 1, 0, 0, 1, 1])"
            ]
          },
          "metadata": {
            "tags": []
          },
          "execution_count": 27
        }
      ]
    },
    {
      "cell_type": "code",
      "metadata": {
        "id": "RQIzbXeeYFOb",
        "colab_type": "code",
        "colab": {
          "base_uri": "https://localhost:8080/",
          "height": 208
        },
        "outputId": "b8e70c78-a50c-41ad-950f-002dececee10"
      },
      "source": [
        "msg = df[1]\n",
        "msg[:10]"
      ],
      "execution_count": 28,
      "outputs": [
        {
          "output_type": "execute_result",
          "data": {
            "text/plain": [
              "0    Go until jurong point, crazy.. Available only ...\n",
              "1                        Ok lar... Joking wif u oni...\n",
              "2    Free entry in 2 a wkly comp to win FA Cup fina...\n",
              "3    U dun say so early hor... U c already then say...\n",
              "4    Nah I don't think he goes to usf, he lives aro...\n",
              "5    FreeMsg Hey there darling it's been 3 week's n...\n",
              "6    Even my brother is not like to speak with me. ...\n",
              "7    As per your request 'Melle Melle (Oru Minnamin...\n",
              "8    WINNER!! As a valued network customer you have...\n",
              "9    Had your mobile 11 months or more? U R entitle...\n",
              "Name: 1, dtype: object"
            ]
          },
          "metadata": {
            "tags": []
          },
          "execution_count": 28
        }
      ]
    },
    {
      "cell_type": "code",
      "metadata": {
        "id": "zNojqOoYYE_r",
        "colab_type": "code",
        "colab": {}
      },
      "source": [
        "#replace email address with emailaddr\n",
        "processed = msg.str.replace(r'^.+@[^\\.].*\\.[a-z]{2,}$', 'emailaddr')\n",
        "\n",
        "#replace urls with webaddrs\n",
        "processed = processed.str.replace(r'^http\\://[a-zA-Z0-9\\-\\.]+\\.[a-zA-Z]{2,3}(/\\S*)?$','webaddrs')\n",
        "\n",
        "#replace money symbols with moneysymb\n",
        "processed = processed.str.replace(r'\\$','moneysymb')\n",
        "\n",
        "#replace 10 digits phone no with phone nos\n",
        "processed = processed.str.replace(r'^\\(?[\\d]{3}\\)?[\\s-]?[\\d]{3}[\\s-]?[\\d]{4}$','phonenos')\n",
        "\n",
        "#replace normal nos with number\n",
        "processed = processed.str.replace(r'\\d+(\\.\\d+)?','number')"
      ],
      "execution_count": 0,
      "outputs": []
    },
    {
      "cell_type": "code",
      "metadata": {
        "id": "PYXlkbctYE2V",
        "colab_type": "code",
        "colab": {}
      },
      "source": [
        "#remove punctuation\n",
        "processed = processed.str.replace(r'[^\\w\\d\\s]', ' ')\n",
        "\n",
        "#replace whitespaces between form with one single space\n",
        "\n",
        "processed = processed.str.replace(r'\\s+', ' ')\n",
        "\n",
        "#remove leading and trailing whitespaces\n",
        "\n",
        "processed = processed.str.replace(r'^\\s+|\\s+?$','')"
      ],
      "execution_count": 0,
      "outputs": []
    },
    {
      "cell_type": "code",
      "metadata": {
        "id": "yXpg_UsZYEqT",
        "colab_type": "code",
        "colab": {
          "base_uri": "https://localhost:8080/",
          "height": 1000
        },
        "outputId": "2edb2037-fcc9-47ae-9a55-c94046d9a840"
      },
      "source": [
        "#change words with lower case\n",
        "processed = processed.str.lower()\n",
        "processed"
      ],
      "execution_count": 31,
      "outputs": [
        {
          "output_type": "execute_result",
          "data": {
            "text/plain": [
              "0       go until jurong point crazy available only in ...\n",
              "1                                 ok lar joking wif u oni\n",
              "2       free entry in number a wkly comp to win fa cup...\n",
              "3             u dun say so early hor u c already then say\n",
              "4       nah i don t think he goes to usf he lives arou...\n",
              "5       freemsg hey there darling it s been number wee...\n",
              "6       even my brother is not like to speak with me t...\n",
              "7       as per your request melle melle oru minnaminun...\n",
              "8       winner as a valued network customer you have b...\n",
              "9       had your mobile number months or more u r enti...\n",
              "10      i m gonna be home soon and i don t want to tal...\n",
              "11      six chances to win cash from number to number ...\n",
              "12      urgent you have won a number week free members...\n",
              "13      i ve been searching for the right words to tha...\n",
              "14                      i have a date on sunday with will\n",
              "15      xxxmobilemovieclub to use your credit click th...\n",
              "16                                 oh k i m watching here\n",
              "17      eh u remember how number spell his name yes i ...\n",
              "18      fine if that s the way u feel that s the way i...\n",
              "19      england v macedonia dont miss the goals team n...\n",
              "20               is that seriously how you spell his name\n",
              "21      i m going to try for number months ha ha only ...\n",
              "22         so ü pay first lar then when is da stock comin\n",
              "23      aft i finish my lunch then i go str down lor a...\n",
              "24      ffffffffff alright no way i can meet up with y...\n",
              "25      just forced myself to eat a slice i m really n...\n",
              "26                          lol your always so convincing\n",
              "27      did you catch the bus are you frying an egg di...\n",
              "28      i m back amp we re packing the car now i ll le...\n",
              "29      ahhh work i vaguely remember that what does it...\n",
              "                              ...                        \n",
              "5542             armand says get your ass over to epsilon\n",
              "5543                u still havent got urself a jacket ah\n",
              "5544    i m taking derek amp taylor to walmart if i m ...\n",
              "5545        hi its in durban are you still on this number\n",
              "5546             ic there are a lotta childporn cars then\n",
              "5547    had your contract mobile number mnths latest m...\n",
              "5548                     no i was trying it all weekend v\n",
              "5549    you know wot people wear t shirts jumpers hat ...\n",
              "5550            cool what time you think you can get here\n",
              "5551    wen did you get so spiritual and deep that s g...\n",
              "5552    have a safe trip to nigeria wish you happiness...\n",
              "5553                           hahaha use your brain dear\n",
              "5554    well keep in mind i ve only got enough gas for...\n",
              "5555    yeh indians was nice tho it did kane me off a ...\n",
              "5556    yes i have so that s why u texted pshew missin...\n",
              "5557    no i meant the calculation is the same that lt...\n",
              "5558                                sorry i ll call later\n",
              "5559    if you aren t here in the next lt gt hours imm...\n",
              "5560                      anything lor juz both of us lor\n",
              "5561    get me out of this dump heap my mom decided to...\n",
              "5562    ok lor sony ericsson salesman i ask shuhui the...\n",
              "5563                              ard number like dat lor\n",
              "5564    why don t you wait til at least wednesday to s...\n",
              "5565                                            huh y lei\n",
              "5566    reminder from onumber to get number pounds fre...\n",
              "5567    this is the numbernd time we have tried number...\n",
              "5568                  will ü b going to esplanade fr home\n",
              "5569    pity was in mood for that so any other suggest...\n",
              "5570    the guy did some bitching but i acted like i d...\n",
              "5571                            rofl its true to its name\n",
              "Name: 1, Length: 5572, dtype: object"
            ]
          },
          "metadata": {
            "tags": []
          },
          "execution_count": 31
        }
      ]
    },
    {
      "cell_type": "code",
      "metadata": {
        "id": "d8OwfXXPWIqR",
        "colab_type": "code",
        "colab": {
          "base_uri": "https://localhost:8080/",
          "height": 72
        },
        "outputId": "b1b445bb-78d4-4562-8d61-3ff4ebf9a465"
      },
      "source": [
        "!pip install nltk"
      ],
      "execution_count": 32,
      "outputs": [
        {
          "output_type": "stream",
          "text": [
            "Requirement already satisfied: nltk in /usr/local/lib/python3.6/dist-packages (3.2.5)\n",
            "Requirement already satisfied: six in /usr/local/lib/python3.6/dist-packages (from nltk) (1.12.0)\n"
          ],
          "name": "stdout"
        }
      ]
    },
    {
      "cell_type": "code",
      "metadata": {
        "id": "t65_7pRCZMsr",
        "colab_type": "code",
        "colab": {
          "base_uri": "https://localhost:8080/",
          "height": 69
        },
        "outputId": "df7f28be-5d9c-4f4c-aa20-2b34c87439cf"
      },
      "source": [
        "import nltk\n",
        "nltk.download('stopwords')\n"
      ],
      "execution_count": 33,
      "outputs": [
        {
          "output_type": "stream",
          "text": [
            "[nltk_data] Downloading package stopwords to /root/nltk_data...\n",
            "[nltk_data]   Unzipping corpora/stopwords.zip.\n"
          ],
          "name": "stdout"
        },
        {
          "output_type": "execute_result",
          "data": {
            "text/plain": [
              "True"
            ]
          },
          "metadata": {
            "tags": []
          },
          "execution_count": 33
        }
      ]
    },
    {
      "cell_type": "code",
      "metadata": {
        "id": "4VX078deZMhQ",
        "colab_type": "code",
        "colab": {}
      },
      "source": [
        "from nltk.corpus import stopwords\n",
        "\n",
        "stop_words = set(stopwords.words('english'))\n",
        "\n",
        "processed = processed.apply(lambda x: ' '.join(term for term in x.split() if term not in stop_words))"
      ],
      "execution_count": 0,
      "outputs": []
    },
    {
      "cell_type": "code",
      "metadata": {
        "id": "yj4xOGHSaKZk",
        "colab_type": "code",
        "colab": {
          "base_uri": "https://localhost:8080/",
          "height": 69
        },
        "outputId": "cb30b61a-589d-4994-9136-c4c61aeb79ae"
      },
      "source": [
        "import nltk\n",
        "nltk.download('punkt')"
      ],
      "execution_count": 35,
      "outputs": [
        {
          "output_type": "stream",
          "text": [
            "[nltk_data] Downloading package punkt to /root/nltk_data...\n",
            "[nltk_data]   Unzipping tokenizers/punkt.zip.\n"
          ],
          "name": "stdout"
        },
        {
          "output_type": "execute_result",
          "data": {
            "text/plain": [
              "True"
            ]
          },
          "metadata": {
            "tags": []
          },
          "execution_count": 35
        }
      ]
    },
    {
      "cell_type": "code",
      "metadata": {
        "id": "v-uEeg1UZMYK",
        "colab_type": "code",
        "colab": {}
      },
      "source": [
        "ps = nltk.PorterStemmer()\n",
        "\n",
        "processed = processed.apply(lambda x: ' '.join(ps.stem(term) for term in x.split()))"
      ],
      "execution_count": 0,
      "outputs": []
    },
    {
      "cell_type": "code",
      "metadata": {
        "id": "R2i9ZJNVZMON",
        "colab_type": "code",
        "colab": {}
      },
      "source": [
        "from nltk.tokenize import word_tokenize\n",
        "\n",
        "#creating a bag of words\n",
        "all_words=[]\n",
        "\n",
        "for message in processed:\n",
        "    words = word_tokenize(message)\n",
        "    for w in words:\n",
        "        all_words.append(w)\n",
        "        \n",
        "all_words = nltk.FreqDist(all_words)"
      ],
      "execution_count": 0,
      "outputs": []
    },
    {
      "cell_type": "code",
      "metadata": {
        "id": "c0PX9zm_ZMDG",
        "colab_type": "code",
        "colab": {
          "base_uri": "https://localhost:8080/",
          "height": 72
        },
        "outputId": "00f75f21-0c98-4e3e-c298-45255678431f"
      },
      "source": [
        "#print total no of words and 15 most common words\n",
        "print(\"total no of words{}\".format(len(all_words)))\n",
        "print('Most common words: {}'.format(all_words.most_common(15)))"
      ],
      "execution_count": 38,
      "outputs": [
        {
          "output_type": "stream",
          "text": [
            "total no of words6562\n",
            "Most common words: [('number', 3071), ('u', 1207), ('call', 679), ('go', 456), ('get', 451), ('ur', 391), ('gt', 318), ('lt', 316), ('come', 304), ('ok', 293), ('free', 284), ('day', 276), ('know', 275), ('love', 266), ('like', 261)]\n"
          ],
          "name": "stdout"
        }
      ]
    },
    {
      "cell_type": "code",
      "metadata": {
        "id": "o0XDAkZ3ZL1M",
        "colab_type": "code",
        "colab": {}
      },
      "source": [
        "word_features= list(all_words.keys())[:]"
      ],
      "execution_count": 0,
      "outputs": []
    },
    {
      "cell_type": "code",
      "metadata": {
        "id": "Q8XNs1tDZLgT",
        "colab_type": "code",
        "colab": {
          "base_uri": "https://localhost:8080/",
          "height": 295
        },
        "outputId": "3c61c876-0855-45dc-a1a7-f92a69b64c74"
      },
      "source": [
        "#define a find features function\n",
        "def find_features(message):\n",
        "    words = word_tokenize(message)\n",
        "    features = {}\n",
        "    for word in word_features:\n",
        "        features[word]=(word in words)\n",
        "        \n",
        "    return features\n",
        "\n",
        "#example\n",
        "feature = find_features(processed[0])\n",
        "for key, value in feature.items():\n",
        "    if value ==True:\n",
        "        print (key)\n",
        "   "
      ],
      "execution_count": 40,
      "outputs": [
        {
          "output_type": "stream",
          "text": [
            "go\n",
            "jurong\n",
            "point\n",
            "crazi\n",
            "avail\n",
            "bugi\n",
            "n\n",
            "great\n",
            "world\n",
            "la\n",
            "e\n",
            "buffet\n",
            "cine\n",
            "got\n",
            "amor\n",
            "wat\n"
          ],
          "name": "stdout"
        }
      ]
    },
    {
      "cell_type": "code",
      "metadata": {
        "id": "8893-8iIadw9",
        "colab_type": "code",
        "colab": {}
      },
      "source": [
        "#find features for all messages\n",
        "messages = list(zip(processed, Y))\n",
        "\n",
        "#seed for reproducibility\n",
        "seed =1\n",
        "np.random.seed =seed\n",
        "np.random.shuffle(messages)\n",
        "\n",
        "#call find_features function for each SMS msg\n",
        "featuresets = [(find_features(text),label) for (text,label) in messages]"
      ],
      "execution_count": 0,
      "outputs": []
    },
    {
      "cell_type": "code",
      "metadata": {
        "id": "lviZTFv0adl8",
        "colab_type": "code",
        "colab": {}
      },
      "source": [
        "from sklearn.model_selection import train_test_split\n",
        "train,test = train_test_split(featuresets,test_size=0.25,random_state=seed)"
      ],
      "execution_count": 0,
      "outputs": []
    },
    {
      "cell_type": "code",
      "metadata": {
        "id": "JVZdFiC5adTs",
        "colab_type": "code",
        "colab": {}
      },
      "source": [
        "from sklearn.neighbors import KNeighborsClassifier\n",
        "from sklearn.tree import DecisionTreeClassifier\n",
        "from sklearn.ensemble import RandomForestClassifier\n",
        "from sklearn.linear_model import LogisticRegression, SGDClassifier\n",
        "from sklearn.naive_bayes import MultinomialNB\n",
        "from sklearn.svm import SVC\n",
        "from sklearn.metrics import classification_report,accuracy_score,confusion_matrix"
      ],
      "execution_count": 0,
      "outputs": []
    },
    {
      "cell_type": "code",
      "metadata": {
        "id": "RGPf3aPfar9U",
        "colab_type": "code",
        "colab": {}
      },
      "source": [
        "#define models to train\n",
        "names=['K Nearest Neighbors','Decision Tree','Random Forest','Logistic Regression','SGD Classifier','Naive Bayes','SVM Linear']\n",
        "\n",
        "classifier=[\n",
        "    KNeighborsClassifier(),\n",
        "    DecisionTreeClassifier(),\n",
        "    RandomForestClassifier(),\n",
        "    LogisticRegression(),\n",
        "    SGDClassifier(max_iter=100),\n",
        "    MultinomialNB(),\n",
        "    SVC(kernel='linear')\n",
        "]\n",
        "\n",
        "models = zip(names, classifier)\n",
        "\n",
        "models = list(models)\n",
        "#models"
      ],
      "execution_count": 0,
      "outputs": []
    },
    {
      "cell_type": "code",
      "metadata": {
        "id": "GCWIVG2Rarx1",
        "colab_type": "code",
        "colab": {
          "base_uri": "https://localhost:8080/",
          "height": 228
        },
        "outputId": "08de7ec0-69ab-44a1-a642-29d0231c37e4"
      },
      "source": [
        "#wrap models in nltk\n",
        "from nltk.classify.scikitlearn import SklearnClassifier\n",
        "\n",
        "for name,model in models:\n",
        "    nltk_model = SklearnClassifier(model)\n",
        "    nltk_model.train(train)\n",
        "    accuracy = nltk.classify.accuracy(nltk_model,test) * 100\n",
        "    print('{} Accuracy: {}'.format(name, accuracy))"
      ],
      "execution_count": 45,
      "outputs": [
        {
          "output_type": "stream",
          "text": [
            "K Nearest Neighbors Accuracy: 92.67767408470927\n",
            "Decision Tree Accuracy: 96.91313711414213\n"
          ],
          "name": "stdout"
        },
        {
          "output_type": "stream",
          "text": [
            "/usr/local/lib/python3.6/dist-packages/sklearn/ensemble/forest.py:245: FutureWarning: The default value of n_estimators will change from 10 in version 0.20 to 100 in 0.22.\n",
            "  \"10 in version 0.20 to 100 in 0.22.\", FutureWarning)\n"
          ],
          "name": "stderr"
        },
        {
          "output_type": "stream",
          "text": [
            "Random Forest Accuracy: 96.33883704235463\n"
          ],
          "name": "stdout"
        },
        {
          "output_type": "stream",
          "text": [
            "/usr/local/lib/python3.6/dist-packages/sklearn/linear_model/logistic.py:432: FutureWarning: Default solver will be changed to 'lbfgs' in 0.22. Specify a solver to silence this warning.\n",
            "  FutureWarning)\n"
          ],
          "name": "stderr"
        },
        {
          "output_type": "stream",
          "text": [
            "Logistic Regression Accuracy: 98.20531227566404\n",
            "SGD Classifier Accuracy: 98.1335247666906\n",
            "Naive Bayes Accuracy: 97.05671213208902\n",
            "SVM Linear Accuracy: 97.98994974874373\n"
          ],
          "name": "stdout"
        }
      ]
    },
    {
      "cell_type": "code",
      "metadata": {
        "id": "lpQ5nylhargg",
        "colab_type": "code",
        "colab": {
          "base_uri": "https://localhost:8080/",
          "height": 34
        },
        "outputId": "a697e182-1d7c-4999-f861-cbc20be36dfd"
      },
      "source": [
        "#emsemble method - voting classifier\n",
        "from sklearn.ensemble import VotingClassifier\n",
        "\n",
        "#define models to train\n",
        "names=['K Nearest Neighbors','Decision Tree','Random Forest','Logistic Regression','SGD Classifier','Naive Bayes','SVM Linear']\n",
        "\n",
        "classifier=[\n",
        "    KNeighborsClassifier(),\n",
        "    DecisionTreeClassifier(),\n",
        "    RandomForestClassifier(),\n",
        "    LogisticRegression(),\n",
        "    SGDClassifier(max_iter=100),\n",
        "    MultinomialNB(),\n",
        "    SVC(kernel='linear')\n",
        "]\n",
        "\n",
        "models = list(zip(names, classifier))\n",
        "\n",
        "nltk_ensemble = SklearnClassifier(VotingClassifier(estimators=models , voting ='hard', n_jobs=-1))\n",
        "nltk_ensemble.train(train)\n",
        "accuracy = nltk.classify.accuracy(nltk_ensemble,test) * 100\n",
        "accuracy"
      ],
      "execution_count": 46,
      "outputs": [
        {
          "output_type": "execute_result",
          "data": {
            "text/plain": [
              "98.27709978463747"
            ]
          },
          "metadata": {
            "tags": []
          },
          "execution_count": 46
        }
      ]
    },
    {
      "cell_type": "code",
      "metadata": {
        "id": "uIgmFw8kcb23",
        "colab_type": "code",
        "colab": {}
      },
      "source": [
        "#class label prediction\n",
        "text_features , labels = zip(*test)\n",
        "\n",
        "prediction = nltk_ensemble.classify_many(text_features)"
      ],
      "execution_count": 0,
      "outputs": []
    },
    {
      "cell_type": "code",
      "metadata": {
        "id": "KLFjD5dgcbqm",
        "colab_type": "code",
        "colab": {
          "base_uri": "https://localhost:8080/",
          "height": 300
        },
        "outputId": "409ff87c-9c00-4a34-8195-c7cdc381aacd"
      },
      "source": [
        "#print confusion matrix and classification report\n",
        "print(classification_report(labels,prediction))\n",
        "\n",
        "pd.DataFrame(confusion_matrix(labels, prediction),\n",
        "            index = [['actual', 'actual'],['ham','spam']],\n",
        "            columns = [['predicted','predicted'],['ham','spam']])"
      ],
      "execution_count": 49,
      "outputs": [
        {
          "output_type": "stream",
          "text": [
            "              precision    recall  f1-score   support\n",
            "\n",
            "           0       0.98      1.00      0.99      1193\n",
            "           1       0.99      0.89      0.94       200\n",
            "\n",
            "    accuracy                           0.98      1393\n",
            "   macro avg       0.99      0.94      0.96      1393\n",
            "weighted avg       0.98      0.98      0.98      1393\n",
            "\n"
          ],
          "name": "stdout"
        },
        {
          "output_type": "execute_result",
          "data": {
            "text/html": [
              "<div>\n",
              "<style scoped>\n",
              "    .dataframe tbody tr th:only-of-type {\n",
              "        vertical-align: middle;\n",
              "    }\n",
              "\n",
              "    .dataframe tbody tr th {\n",
              "        vertical-align: top;\n",
              "    }\n",
              "\n",
              "    .dataframe thead tr th {\n",
              "        text-align: left;\n",
              "    }\n",
              "</style>\n",
              "<table border=\"1\" class=\"dataframe\">\n",
              "  <thead>\n",
              "    <tr>\n",
              "      <th></th>\n",
              "      <th></th>\n",
              "      <th colspan=\"2\" halign=\"left\">predicted</th>\n",
              "    </tr>\n",
              "    <tr>\n",
              "      <th></th>\n",
              "      <th></th>\n",
              "      <th>ham</th>\n",
              "      <th>spam</th>\n",
              "    </tr>\n",
              "  </thead>\n",
              "  <tbody>\n",
              "    <tr>\n",
              "      <th rowspan=\"2\" valign=\"top\">actual</th>\n",
              "      <th>ham</th>\n",
              "      <td>1192</td>\n",
              "      <td>1</td>\n",
              "    </tr>\n",
              "    <tr>\n",
              "      <th>spam</th>\n",
              "      <td>23</td>\n",
              "      <td>177</td>\n",
              "    </tr>\n",
              "  </tbody>\n",
              "</table>\n",
              "</div>"
            ],
            "text/plain": [
              "            predicted     \n",
              "                  ham spam\n",
              "actual ham       1192    1\n",
              "       spam        23  177"
            ]
          },
          "metadata": {
            "tags": []
          },
          "execution_count": 49
        }
      ]
    },
    {
      "cell_type": "code",
      "metadata": {
        "id": "R2wQNU5_cbWm",
        "colab_type": "code",
        "colab": {}
      },
      "source": [
        ""
      ],
      "execution_count": 0,
      "outputs": []
    }
  ]
}